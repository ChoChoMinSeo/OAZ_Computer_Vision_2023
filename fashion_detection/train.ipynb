{
 "cells": [
  {
   "cell_type": "code",
   "execution_count": 4,
   "metadata": {},
   "outputs": [],
   "source": [
    "import torch"
   ]
  },
  {
   "cell_type": "code",
   "execution_count": 5,
   "metadata": {},
   "outputs": [
    {
     "data": {
      "text/plain": [
       "True"
      ]
     },
     "execution_count": 5,
     "metadata": {},
     "output_type": "execute_result"
    }
   ],
   "source": [
    "torch.cuda.is_available()"
   ]
  },
  {
   "cell_type": "code",
   "execution_count": 2,
   "metadata": {},
   "outputs": [
    {
     "name": "stdout",
     "output_type": "stream",
     "text": [
      "Looking in indexes: https://download.pytorch.org/whl/cu118\n",
      "Requirement already satisfied: torch in c:\\ana\\anaconda3\\envs\\fashion\\lib\\site-packages (1.7.1+cu110)\n",
      "Requirement already satisfied: torchvision in c:\\ana\\anaconda3\\envs\\fashion\\lib\\site-packages (0.15.2)\n",
      "Requirement already satisfied: torchaudio in c:\\ana\\anaconda3\\envs\\fashion\\lib\\site-packages (2.0.2)\n",
      "Requirement already satisfied: typing-extensions in c:\\users\\조아진\\appdata\\roaming\\python\\python39\\site-packages (from torch) (4.3.0)\n",
      "Requirement already satisfied: numpy in c:\\users\\조아진\\appdata\\roaming\\python\\python39\\site-packages (from torch) (1.23.4)\n",
      "Requirement already satisfied: requests in c:\\users\\조아진\\appdata\\roaming\\python\\python39\\site-packages (from torchvision) (2.28.1)\n",
      "Collecting torch\n",
      "  Downloading https://download.pytorch.org/whl/cu118/torch-2.0.1%2Bcu118-cp39-cp39-win_amd64.whl (2619.2 MB)\n",
      "     ---------------------------------------- 2.6/2.6 GB 520.0 kB/s eta 0:00:00\n",
      "Requirement already satisfied: pillow!=8.3.*,>=5.3.0 in c:\\ana\\anaconda3\\envs\\fashion\\lib\\site-packages (from torchvision) (10.1.0)\n",
      "Requirement already satisfied: filelock in c:\\ana\\anaconda3\\envs\\fashion\\lib\\site-packages (from torch) (3.13.1)\n",
      "Requirement already satisfied: sympy in c:\\ana\\anaconda3\\envs\\fashion\\lib\\site-packages (from torch) (1.12)\n",
      "Requirement already satisfied: networkx in c:\\ana\\anaconda3\\envs\\fashion\\lib\\site-packages (from torch) (3.2.1)\n",
      "Requirement already satisfied: jinja2 in c:\\users\\조아진\\appdata\\roaming\\python\\python39\\site-packages (from torch) (3.1.2)\n",
      "Requirement already satisfied: MarkupSafe>=2.0 in c:\\users\\조아진\\appdata\\roaming\\python\\python39\\site-packages (from jinja2->torch) (2.1.1)\n",
      "Requirement already satisfied: charset-normalizer<3,>=2 in c:\\users\\조아진\\appdata\\roaming\\python\\python39\\site-packages (from requests->torchvision) (2.1.1)\n",
      "Requirement already satisfied: idna<4,>=2.5 in c:\\users\\조아진\\appdata\\roaming\\python\\python39\\site-packages (from requests->torchvision) (3.4)\n",
      "Requirement already satisfied: urllib3<1.27,>=1.21.1 in c:\\users\\조아진\\appdata\\roaming\\python\\python39\\site-packages (from requests->torchvision) (1.26.12)\n",
      "Requirement already satisfied: certifi>=2017.4.17 in c:\\users\\조아진\\appdata\\roaming\\python\\python39\\site-packages (from requests->torchvision) (2022.9.24)\n",
      "Requirement already satisfied: mpmath>=0.19 in c:\\ana\\anaconda3\\envs\\fashion\\lib\\site-packages (from sympy->torch) (1.3.0)\n",
      "Installing collected packages: torch\n",
      "  Attempting uninstall: torch\n",
      "    Found existing installation: torch 1.7.1+cu110\n",
      "    Uninstalling torch-1.7.1+cu110:\n",
      "      Successfully uninstalled torch-1.7.1+cu110\n",
      "Successfully installed torch-2.0.1+cu118\n"
     ]
    },
    {
     "name": "stderr",
     "output_type": "stream",
     "text": [
      "\n",
      "[notice] A new release of pip is available: 23.2.1 -> 23.3.2\n",
      "[notice] To update, run: python.exe -m pip install --upgrade pip\n"
     ]
    }
   ],
   "source": [
    "!pip3 install torch torchvision torchaudio --index-url https://download.pytorch.org/whl/cu118"
   ]
  },
  {
   "cell_type": "markdown",
   "metadata": {},
   "source": [
    "train setting"
   ]
  },
  {
   "cell_type": "code",
   "execution_count": 4,
   "metadata": {},
   "outputs": [],
   "source": [
    "data_yaml = './datas/data.yaml'"
   ]
  },
  {
   "cell_type": "code",
   "execution_count": null,
   "metadata": {},
   "outputs": [],
   "source": [
    "python ./yolov5/train.py --img 224 --batch 16 --epochs 150 --data ./datas/data.yaml --weights yolov5s.pt --cache"
   ]
  },
  {
   "cell_type": "code",
   "execution_count": null,
   "metadata": {},
   "outputs": [],
   "source": [
    "python ./yolov5/train.py --img 224 --batch 16 --epochs 30 --data ./datas/data.yaml --weights ./yolov5/runs/train/exp4/weights/last.pt"
   ]
  },
  {
   "cell_type": "code",
   "execution_count": 10,
   "metadata": {},
   "outputs": [
    {
     "name": "stdout",
     "output_type": "stream",
     "text": [
      "yolov5\\data\\coco128.yaml\n"
     ]
    },
    {
     "name": "stderr",
     "output_type": "stream",
     "text": [
      "\u001b[34m\u001b[1mdetect: \u001b[0mweights=['./yolov5/runs/train/exp4/weights/best.pt'], source=./datas/test, data=yolov5\\data\\coco128.yaml, imgsz=[224, 224], conf_thres=0.25, iou_thres=0.45, max_det=1000, device=, view_img=False, save_txt=True, save_csv=False, save_conf=False, save_crop=False, nosave=False, classes=None, agnostic_nms=False, augment=False, visualize=False, update=False, project=yolov5\\runs\\detect, name=exp, exist_ok=False, line_thickness=3, hide_labels=False, hide_conf=False, half=False, dnn=False, vid_stride=1\n",
      "YOLOv5  v7.0-253-g63555c8 Python-3.9.18 torch-2.0.0+cu118 CUDA:0 (NVIDIA GeForce GTX 1060 3GB, 3072MiB)\n",
      "\n",
      "Fusing layers... \n",
      "Model summary: 212 layers, 20905467 parameters, 0 gradients, 48.0 GFLOPs\n",
      "image 1/3 D:\\fashion_detection\\datas\\test\\1.jpg: 224x128 2 Long sleeve tops, 2 Trouserss, 25.0ms\n",
      "image 2/3 D:\\fashion_detection\\datas\\test\\2.jpg: 224x192 1 Short sleeve top, 1 Sling dress, 25.0ms\n",
      "image 3/3 D:\\fashion_detection\\datas\\test\\3.jpg: 224x192 1 Long sleeve dress, 8.0ms\n",
      "Speed: 0.7ms pre-process, 19.3ms inference, 2.7ms NMS per image at shape (1, 3, 224, 224)\n",
      "Results saved to \u001b[1myolov5\\runs\\detect\\exp3\u001b[0m\n",
      "3 labels saved to yolov5\\runs\\detect\\exp3\\labels\n"
     ]
    }
   ],
   "source": [
    "!python ./yolov5/detect.py --weights ./yolov5/runs/train/exp4/weights/best.pt --img 224 --conf 0.25 --source ./datas/test --save-txt"
   ]
  }
 ],
 "metadata": {
  "kernelspec": {
   "display_name": "base",
   "language": "python",
   "name": "python3"
  },
  "language_info": {
   "codemirror_mode": {
    "name": "ipython",
    "version": 3
   },
   "file_extension": ".py",
   "mimetype": "text/x-python",
   "name": "python",
   "nbconvert_exporter": "python",
   "pygments_lexer": "ipython3",
   "version": "3.9.18"
  }
 },
 "nbformat": 4,
 "nbformat_minor": 2
}
